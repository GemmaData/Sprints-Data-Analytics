{
 "cells": [
  {
   "cell_type": "markdown",
   "metadata": {},
   "source": [
    "### N1 Exercici 1: Calculadora de l'índex de massa corporal\n",
    "\n",
    "- Escriu una funció que calculi l'IMC ingressat per l'usuari/ària, és a dir, qui ho executi haurà d'ingressar aquestes dades. \n",
    "\n",
    "- La funció ha de classificar el resultat en les seves respectives categories"
   ]
  },
  {
   "cell_type": "code",
   "execution_count": 249,
   "metadata": {},
   "outputs": [],
   "source": [
    "def calculadoraIMC(pes, alçada):\n",
    "    IMC = round(pes/(alçada**2),2)\n",
    "    if IMC < 30:\n",
    "        if IMC < 18.5:\n",
    "            categoria = \"baix pes\"\n",
    "        elif IMC < 25:\n",
    "            categoria = \"saludable\"\n",
    "        else:\n",
    "            categoria = \"sobrepes\"\n",
    "    else:\n",
    "        categoria = \"obesitat\"\n",
    "    return IMC, categoria\n",
    "\n",
    "#Una altra manera de classificar els resultats del IMC seria:\n",
    "# if IMC < 18.5:\n",
    "#    categoria = \"baix pes\"\n",
    "#elif IMC >= 18.5 and IMC < 25:\n",
    "#    categoria = \"saludable\"\n",
    "#elif IMC >= 25 and IMC < 30:\n",
    "#    categoria = \"sobrepes\"\n",
    "#else:\n",
    "#    categoria = \"obesitat\""
   ]
  },
  {
   "cell_type": "code",
   "execution_count": 251,
   "metadata": {},
   "outputs": [
    {
     "name": "stdout",
     "output_type": "stream",
     "text": [
      "El teu pes es 62.0 kg i la teva alçada 1.77 m, per tant el teu IMC es 19.79, en la categoria de saludable.\n"
     ]
    }
   ],
   "source": [
    "alçadausuari = float(input(\"Benvingut/da! Escriu la teva alçada en metres\").replace(\",\", \".\"))    #Replace per a que no doni error si utilitzen \",\"\n",
    "pesusuari = float(input(\"Gràcies! Ara escriu el teu pes en kg\").replace(\",\", \".\"))\n",
    "\n",
    "resultatIMC, categoria = calculadoraIMC(pesusuari, alçadausuari)\n",
    "\n",
    "print(f\"El teu pes es {pesusuari} kg i la teva alçada {alçadausuari} m, per tant el teu IMC es {resultatIMC}, en la categoria de {categoria}.\")"
   ]
  },
  {
   "cell_type": "markdown",
   "metadata": {},
   "source": [
    "### N1 Exercici 2: Convertidor de temperatures.\n",
    "\n",
    "Existeixen diverses unitats de temperatura utilitzades en diferents contextos i regions. Les més comunes són Celsius (°C), Fahrenheit (°F) i Kelvin (K). També existeixen altres unitats com Rankine (°Ra) i Réaumur (°Re). Selecciona almenys 2 conversors, de tal manera que en introduir una temperatura retorni, com a mínim, dues conversions."
   ]
  },
  {
   "cell_type": "code",
   "execution_count": 14,
   "metadata": {},
   "outputs": [],
   "source": [
    "# Opció 1 (1/2)\n",
    "\n",
    "def conv_temperatura(valor, unitat):  # Definició de la funció de conversió de totes les temperatures, arrodonida a 2 dígits\n",
    "    if unitat == \"C\":  \n",
    "        fah = round(valor * 9/5 + 32, 2)  \n",
    "        k = round(valor + 273.15, 2)\n",
    "        if valor < -273.15:\n",
    "            print(\"Aquesta temperatura no existeix\")\n",
    "        else:\n",
    "            print(valor, \"ºC equivalen a\", fah, \"ºF i a\", k, \"K\")\n",
    "        return None \n",
    "    elif unitat == \"F\":  \n",
    "        cel = round((valor - 32) * 5/9, 2)  \n",
    "        k = round((valor + 459.67) * 5/9, 2)\n",
    "        if valor < -459.67:\n",
    "            print(\"Aquesta temperatura no existeix\")\n",
    "        else:\n",
    "            print(valor, \"ºF equivalen a\", cel, \"ºC i a\", k, \"K\")\n",
    "        return None \n",
    "    elif unitat == \"K\":  \n",
    "        cel = round(valor - 273.15, 2)  \n",
    "        fah = round(valor * 9/5 - 459.67, 2)\n",
    "        if valor < 0:\n",
    "            print(\"Aquesta temperatura no existeix\")\n",
    "        else:\n",
    "            print(valor, \"K equivalen a\", cel, \"ºC i a \", fah, \"ºF\")\n",
    "        return None\n",
    "    else:\n",
    "        print(\"Opció d'unitat incorrecte\")\n",
    "        return None"
   ]
  },
  {
   "cell_type": "code",
   "execution_count": 17,
   "metadata": {},
   "outputs": [
    {
     "name": "stdout",
     "output_type": "stream",
     "text": [
      "100.0 ºC equivalen a 212.0 ºF i a 373.15 K\n"
     ]
    }
   ],
   "source": [
    "#Opció 1 (2/2)\n",
    "\n",
    "unitat = input(\"Indica quina unitat de temperatura vols convertir (C, F, K)\").upper()    #upper fa que em reconogui tant C com c\n",
    "valor = float(input(\"Introdueix el valor de la temperatura que vols convertir\"))\n",
    "\n",
    "conv_temperatura(valor, unitat)\n"
   ]
  },
  {
   "cell_type": "code",
   "execution_count": 41,
   "metadata": {},
   "outputs": [
    {
     "name": "stdout",
     "output_type": "stream",
     "text": [
      "Aquesta temperatura no existeix\n"
     ]
    }
   ],
   "source": [
    "# Opció 2\n",
    "\n",
    "def convCelFah(cel):\n",
    "    return round((cel*9/5) + 32, 2)\n",
    "\n",
    "def convCelK(cel):\n",
    "    return round(cel + 273.15, 2)\n",
    "\n",
    "def convFahCel(fah):\n",
    "    return round((fah-32) * 5/9, 2)\n",
    "\n",
    "def convFahK(fah):\n",
    "    return round((fah+459.67) * 5/9, 2)\n",
    "\n",
    "def convKCel(k):\n",
    "    return round(k - 273.15 , 2)\n",
    "\n",
    "def convKFah(k):\n",
    "    return round((k - 273.15)*9/5 + 32 , 2)\n",
    "\n",
    "unitat = input(\"Indica quina unitat de temperatura vols convertir (C, F, K)\").upper()    #upper fa que em reconogui tant C com c\n",
    "\n",
    "if unitat == \"C\":       #Si no s'escriu .upper abans, hauriem d'afegir aquí \"or unitat == \"c\"\" i també a la resta d'unitats\n",
    "    cel = float(input(\"Introdueix la temperatura en Celsius que vols convertir\"))\n",
    "    if cel < -273.15:\n",
    "        print(\"Aquesta temperatura no existeix\")\n",
    "    else:\n",
    "        fah = convCelFah(cel)\n",
    "        k = convCelK(cel)\n",
    "        print(cel, \"ºC equivalen a\", fah, \"ºF i a\", k, \"K\")\n",
    "\n",
    "elif unitat == \"F\":\n",
    "    fah = float(input(\"Introdueix la temperatura en Fahrenheit que vols convertir\"))\n",
    "    if fah < -459.67:\n",
    "        print(\"Aquesta temperatura no existeix\")\n",
    "    else:\n",
    "        cel = convFahCel(fah)\n",
    "        k = convFahK(fah)\n",
    "        print(fah, \"ºF equivalen a\", cel, \"ºC i a\", k, \"K\")\n",
    "\n",
    "elif unitat == \"K\":\n",
    "    k = float(input(\"Introdueix la temperatura en Kelvin que vols convertir\"))\n",
    "    if k < 0:\n",
    "        print(\"Aquesta temperatura no existeix\")\n",
    "    else:\n",
    "        cel = convKCel(k)\n",
    "        fah = convKFah(k)\n",
    "        print(k, \"K equivalen a\", cel, \"ºC i a \", fah, \"ºF\")\n",
    "\n",
    "else:\n",
    "    print(\"Opció incorrecta\")"
   ]
  },
  {
   "cell_type": "markdown",
   "metadata": {},
   "source": [
    "### N1 Exercici 3: Comptador de paraules d'un text.\n",
    "\n",
    "Escriu una funció que donat un text, mostri les vegades que apareix cada paraula."
   ]
  },
  {
   "cell_type": "code",
   "execution_count": null,
   "metadata": {},
   "outputs": [],
   "source": [
    "import string\n",
    "\n",
    "def numparaules(text):\n",
    "    text = text.lower().translate(str.maketrans(\"\",\"\",string.punctuation)).split()    #També es pot utilitzar text = text.casefold()... i cal utilitzar .translate abans de split pq sino passa a ser ja una llista\n",
    "    textdicc = {}\n",
    "    for x in text:\n",
    "        if x in textdicc:\n",
    "            textdicc[x] +=1\n",
    "        else:\n",
    "            textdicc[x] = 1\n",
    "    return textdicc\n"
   ]
  },
  {
   "cell_type": "code",
   "execution_count": null,
   "metadata": {},
   "outputs": [
    {
     "name": "stdout",
     "output_type": "stream",
     "text": [
      "La paraula 'una' apareix 2 vegades\n",
      "La paraula 'cadira' apareix 2 vegades\n",
      "La paraula 'i' apareix 1 vegades\n",
      "La paraula 'noia' apareix 1 vegades\n",
      "La paraula 'que' apareix 1 vegades\n",
      "La paraula 'vol' apareix 1 vegades\n",
      "La paraula 'seure' apareix 1 vegades\n",
      "La paraula 'a' apareix 1 vegades\n",
      "La paraula 'la' apareix 1 vegades\n"
     ]
    }
   ],
   "source": [
    "textprova = input(\"Hola! Escriu el text a analitzar\")\n",
    "\n",
    "resultat = numparaules(textprova)\n",
    "\n",
    "for x, quantitat in resultat.items():\n",
    "    print(f\"La paraula '{x}' apareix {quantitat} vegades\")     #La f permet que s'inserti el valor de x i de quantitat al string sense necessitat del +"
   ]
  },
  {
   "cell_type": "markdown",
   "metadata": {},
   "source": [
    "#### N1 Exercici 4: Diccionari invers.\n",
    "\n",
    "Resulta que el client té una enquesta molt antiga que s'emmagatzema en un diccionari i els resultats els necessita al revés, és a dir, intercanviats les claus i els valors. Els valors i claus en el diccionari original són únics; si aquest no és el cas, la funció hauria d'imprimir un missatge d'advertiment."
   ]
  },
  {
   "cell_type": "code",
   "execution_count": 186,
   "metadata": {},
   "outputs": [],
   "source": [
    "def inversio_dicc(diccionari):\n",
    "    dicc_inverror = {}\n",
    "    if len(diccionari.values()) != len(set(diccionari.values())):\n",
    "        print(\"Error: Els valors del diccionari no son únics\")\n",
    "        return None\n",
    "    else:\n",
    "        for clau, valor in diccionari.items():           #Alternativa: diccionari_invertit = {valor: clave for clave, valor in diccionari.items()}\n",
    "            dicc_inverror[valor] = clau\n",
    "    return dicc_inverror\n"
   ]
  },
  {
   "cell_type": "code",
   "execution_count": 200,
   "metadata": {},
   "outputs": [
    {
     "name": "stdout",
     "output_type": "stream",
     "text": [
      "Error: Els valors del diccionari no son únics\n"
     ]
    }
   ],
   "source": [
    "diccionariprova = {\"a\": 1, \"b\": 3, \"c\": 3}\n",
    "\n",
    "inversio_dicc(diccionariprova)"
   ]
  },
  {
   "cell_type": "markdown",
   "metadata": {},
   "source": [
    "## N2 Exercici 1: Diccionari invers amb duplicats\n",
    "\n",
    "Continuant amb l'exercici 4 del nivell 1: al client es va oblidar de comentar un detall i resulta que els valors en el diccionari original poden duplicar-se i més, per la qual cosa les claus intercanviades poden tenir duplicats. En aquest cas, en l'exercici anterior imprimies un missatge d'advertiment, ara, els valors del diccionari resultant hauran d'emmagatzemar-se com una llista. Tingues en compte que si és un valor únic no ha de ser una llista."
   ]
  },
  {
   "cell_type": "code",
   "execution_count": 215,
   "metadata": {},
   "outputs": [],
   "source": [
    "def inversio_dicc(diccionari):\n",
    "    dicc_invertit = {}\n",
    "    for clau, valor in diccionari.items():\n",
    "        if valor in dicc_invertit:\n",
    "            if isinstance(dicc_invertit[valor], list):   #Si ja està al diccionari (True), l'afegim en llista\n",
    "                dicc_invertit[valor].append(clau)\n",
    "            else:\n",
    "                dicc_invertit[valor] = [dicc_invertit[valor], clau]\n",
    "        else:\n",
    "            dicc_invertit[valor] = clau\n",
    "    return dicc_invertit"
   ]
  },
  {
   "cell_type": "code",
   "execution_count": 216,
   "metadata": {},
   "outputs": [
    {
     "data": {
      "text/plain": [
       "{1: 'a', 3: ['b', 'd', 'e'], 7: 'c'}"
      ]
     },
     "execution_count": 216,
     "metadata": {},
     "output_type": "execute_result"
    }
   ],
   "source": [
    "diccionariprova2 = {\"a\": 1, \"b\": 3, \"c\": 7, \"d\": 3, \"e\" : 3}\n",
    "\n",
    "inversio_dicc(diccionariprova2)"
   ]
  },
  {
   "cell_type": "markdown",
   "metadata": {},
   "source": [
    "## N2 Exercici 2: Conversió de tipus de dades\n",
    "\n",
    "El client rep una llista de dades i necessita generar dues llistes, la primera on estaran tots els elements que es van poder convertir en flotants i l'altra on estan els elements que no es van poder convertir. Exemple de la llista que rep el client: [ '1.3', 'one' , '1e10' , 'seven', '3-1/2', ('2',1,1.4,'not-a-number'), [1,2,'3','3.4']]"
   ]
  },
  {
   "cell_type": "code",
   "execution_count": 209,
   "metadata": {},
   "outputs": [],
   "source": [
    "def classificaciollistes(llista):\n",
    "    llistafloats = []\n",
    "    llistanofloats = []\n",
    "    for x in llista:       #Recorrem cada element de la llista\n",
    "        if isinstance(x, (list, tuple)):    #Si x es una llista o tupla, el recorrem\n",
    "            for item in x:       # Per cada item dintre de la llista o tupla, recorrem\n",
    "                try:\n",
    "                    float(item)    #Intentem convertir cada item a float\n",
    "                    llistafloats.append(float(item))\n",
    "                except (ValueError, TypeError):\n",
    "                    llistanofloats.append(item)\n",
    "        else:     #Si no es llista o tupla\n",
    "            try:\n",
    "                float(x)    #Intentem convertir-lo a float\n",
    "                llistafloats.append(float(x))\n",
    "            except (ValueError, TypeError):\n",
    "                llistanofloats.append(x)\n",
    "    return llistafloats, llistanofloats\n"
   ]
  },
  {
   "cell_type": "code",
   "execution_count": 210,
   "metadata": {},
   "outputs": [
    {
     "data": {
      "text/plain": [
       "([1.3, 10000000000.0, 2.0, 1.0, 1.4, 1.0, 2.0, 3.0, 3.4],\n",
       " ['one', 'seven', '3-1/2', 'not-a-number'])"
      ]
     },
     "execution_count": 210,
     "metadata": {},
     "output_type": "execute_result"
    }
   ],
   "source": [
    "llistaexercici = [ '1.3', 'one' , '1e10' , 'seven', '3-1/2', ('2',1,1.4,'not-a-number'), [1,2,'3','3.4']]\n",
    "\n",
    "classificaciollistes(llistaexercici)"
   ]
  },
  {
   "cell_type": "markdown",
   "metadata": {},
   "source": [
    "## N3 Exercici 1: Comptador i endreçador de paraules d'un text.\n",
    "\n",
    "El client va quedar content amb el comptador de paraules, però ara vol llegir arxius TXT i que calculi la freqüència de cada paraula ordenades dins de les entrades habituals del diccionari segons la lletra amb la qual comencen, és a dir, les claus han d'anar de la A a la Z i dins de la A hem d'anar de la A la Z. Com a exemple hi ha l'arxiu \"tu_me_quieres_blanca.txt\"."
   ]
  },
  {
   "cell_type": "code",
   "execution_count": 212,
   "metadata": {},
   "outputs": [],
   "source": [
    "def ordenar_dicc(ruta_arxiu):\n",
    "    dicc_freq = {}\n",
    "    f = open(ruta_arxiu, \"r\", encoding='utf-8')    #La \"r\" serveix per especificar que només es llegix el document(no modificar) i el encoding, per a que llegeixi bé els caràcters especials\n",
    "    arxiu = f.read()\n",
    "    arxiu = arxiu.lower().translate(str.maketrans(\"\",\"\",string.punctuation)).split()\n",
    "    for x in arxiu:\n",
    "        if x in dicc_freq:\n",
    "            dicc_freq[x] +=1\n",
    "        else:\n",
    "            dicc_freq[x] = 1\n",
    "    dicc_ordenat = dict(sorted(dicc_freq.items()))     #Cal crear un nou diccionari ordenat per les claus\n",
    "    return dicc_ordenat"
   ]
  },
  {
   "cell_type": "code",
   "execution_count": 214,
   "metadata": {},
   "outputs": [
    {
     "data": {
      "text/plain": [
       "{'a': 3,\n",
       " 'agua': 1,\n",
       " 'al': 2,\n",
       " 'alba': 4,\n",
       " 'alcobas': 1,\n",
       " 'alimenta': 1,\n",
       " 'alma': 1,\n",
       " 'amarga': 1,\n",
       " 'azucena': 1,\n",
       " 'baco': 1,\n",
       " 'banquete': 1,\n",
       " 'bebe': 1,\n",
       " 'blanca': 3,\n",
       " 'boca': 1,\n",
       " 'bosques': 1,\n",
       " 'buen': 1,\n",
       " 'cabañas': 1,\n",
       " 'carnes': 2,\n",
       " 'casta': 3,\n",
       " 'cerrada': 1,\n",
       " 'con': 4,\n",
       " 'conservas': 1,\n",
       " 'copas': 1,\n",
       " 'corola': 1,\n",
       " 'corriste': 1,\n",
       " 'cuando': 2,\n",
       " 'cubierto': 1,\n",
       " 'cuerpo': 1,\n",
       " 'cuáles': 1,\n",
       " 'de': 8,\n",
       " 'dejaste': 1,\n",
       " 'del': 1,\n",
       " 'diga': 1,\n",
       " 'dios': 2,\n",
       " 'duerme': 1,\n",
       " 'el': 4,\n",
       " 'ellas': 1,\n",
       " 'en': 4,\n",
       " 'engaño': 1,\n",
       " 'enredada': 1,\n",
       " 'entonces': 1,\n",
       " 'escarcha': 1,\n",
       " 'espumas': 1,\n",
       " 'esqueleto': 1,\n",
       " 'estrago': 1,\n",
       " 'festejando': 1,\n",
       " 'filtrado': 1,\n",
       " 'frutos': 1,\n",
       " 'habla': 1,\n",
       " 'hacia': 1,\n",
       " 'haya': 1,\n",
       " 'hayas': 1,\n",
       " 'hermana': 1,\n",
       " 'hombre': 1,\n",
       " 'hubiste': 1,\n",
       " 'huye': 1,\n",
       " 'intacto': 1,\n",
       " 'jardines': 1,\n",
       " 'la': 3,\n",
       " 'labios': 1,\n",
       " 'las': 7,\n",
       " 'lo': 2,\n",
       " 'los': 4,\n",
       " 'luna': 1,\n",
       " 'lévate': 1,\n",
       " 'límpiate': 1,\n",
       " 'mano': 1,\n",
       " 'manos': 1,\n",
       " 'margarita': 1,\n",
       " 'me': 9,\n",
       " 'mi': 1,\n",
       " 'mieles': 1,\n",
       " 'milagros': 1,\n",
       " 'mojada': 1,\n",
       " 'montaña': 1,\n",
       " 'morados': 1,\n",
       " 'negros': 1,\n",
       " 'ni': 2,\n",
       " 'no': 1,\n",
       " 'nácar': 1,\n",
       " 'nívea': 2,\n",
       " 'perdone': 2,\n",
       " 'perfume': 1,\n",
       " 'por': 2,\n",
       " 'pretendes': 3,\n",
       " 'preténdeme': 3,\n",
       " 'puesto': 1,\n",
       " 'pájaros': 1,\n",
       " 'pámpanos': 1,\n",
       " 'que': 6,\n",
       " 'quedó': 1,\n",
       " 'quieres': 6,\n",
       " 'rayo': 1,\n",
       " 'raíz': 1,\n",
       " 'renueva': 1,\n",
       " 'rocas': 1,\n",
       " 'rojo': 1,\n",
       " 'salitre': 1,\n",
       " 'se': 2,\n",
       " 'sea': 1,\n",
       " 'sean': 1,\n",
       " 'sobre': 2,\n",
       " 'sé': 1,\n",
       " 'te': 3,\n",
       " 'tejidos': 1,\n",
       " 'tenue': 1,\n",
       " 'tierra': 1,\n",
       " 'toca': 1,\n",
       " 'todas': 2,\n",
       " 'todavía': 1,\n",
       " 'tornadas': 1,\n",
       " 'tú': 8,\n",
       " 'un': 1,\n",
       " 'una': 1,\n",
       " 'vestido': 1,\n",
       " 'vete': 1,\n",
       " 'vive': 1,\n",
       " 'y': 5,\n",
       " '¡me': 1}"
      ]
     },
     "execution_count": 214,
     "metadata": {},
     "output_type": "execute_result"
    }
   ],
   "source": [
    "ordenar_dicc(r\"C:\\Users\\alexb\\Desktop\\Gemma\\IT Academy\\Data Analytics\\Python\\Sprint7_TXT_tu_me_quieres_blanca.txt\")\n",
    "\n",
    "#La r inicial serveix per a que llegeixi bé la ubicació de l'arxiu"
   ]
  }
 ],
 "metadata": {
  "kernelspec": {
   "display_name": "Python 3",
   "language": "python",
   "name": "python3"
  },
  "language_info": {
   "codemirror_mode": {
    "name": "ipython",
    "version": 3
   },
   "file_extension": ".py",
   "mimetype": "text/x-python",
   "name": "python",
   "nbconvert_exporter": "python",
   "pygments_lexer": "ipython3",
   "version": "3.11.9"
  }
 },
 "nbformat": 4,
 "nbformat_minor": 2
}
